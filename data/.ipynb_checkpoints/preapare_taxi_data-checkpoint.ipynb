{
 "cells": [
  {
   "cell_type": "markdown",
   "metadata": {},
   "source": [
    "Data Source: https://www.microsoft.com/en-us/research/publication/t-drive-trajectory-data-sample/\n"
   ]
  },
  {
   "cell_type": "code",
   "execution_count": 42,
   "metadata": {},
   "outputs": [
    {
     "name": "stdout",
     "output_type": "stream",
     "text": [
      "10357 files to read.\n"
     ]
    }
   ],
   "source": [
    "import pandas as pd\n",
    "import os\n",
    "\n",
    "data_in = \"taxi_data/\"\n",
    "column_names = ['user_id', 'timestamp', 'longitude', 'latitude']\n",
    "column_types = {'user_id': 'int32',\n",
    "                'latitude': 'float64',\n",
    "                'longitude': 'float64'}\n",
    "\n",
    "filelist = os.listdir(data_in)[1:]  # skip the .DS store 1st in list \n",
    "n_files = len(filelist)\n",
    "print(\"{} files to read.\".format(n_files))\n",
    "n_files_toread = n_files\n",
    "\n",
    "df = [pd.read_csv(data_in+filelist[i],engine='c',header=None,\n",
    "            names=column_names,index_col=None,dtype=column_types,\n",
    "            parse_dates=['timestamp'],infer_datetime_format=True) for i in range(n_files_toread)]"
   ]
  },
  {
   "cell_type": "code",
   "execution_count": 43,
   "metadata": {
    "collapsed": true
   },
   "outputs": [],
   "source": [
    "# Concatenate, rename cols, drop duplicates\n",
    "df = pd.concat(df, ignore_index=True)\n",
    "df.columns = column_names\n",
    "df = df.drop_duplicates(subset=['user_id', 'timestamp'])\n",
    "\n",
    "# Sort data\n",
    "df = df.set_index([\"user_id\", \"timestamp\"]) \\\n",
    "    .sort_index()"
   ]
  },
  {
   "cell_type": "code",
   "execution_count": 44,
   "metadata": {},
   "outputs": [
    {
     "name": "stdout",
     "output_type": "stream",
     "text": [
      "Done!\n"
     ]
    }
   ],
   "source": [
    "# write to file. \n",
    "import feather\n",
    "df.reset_index().to_feather(\"taxidata_complete.feather\")\n",
    "print(\"Done!\")"
   ]
  },
  {
   "cell_type": "markdown",
   "metadata": {
    "collapsed": true
   },
   "source": [
    "## Create a sample of 1000 users and write to file"
   ]
  },
  {
   "cell_type": "code",
   "execution_count": 19,
   "metadata": {},
   "outputs": [],
   "source": [
    "import pandas as pd\n",
    "import random\n",
    "df = pd.read_feather(\"data/taxidata_complete.feather\")\n",
    "\n",
    "random.seed(1988)\n",
    "user_sample = random.sample(list(df.loc[:,\"user_id\"].unique()),100)\n",
    "df_sample = df.set_index('user_id').loc[user_sample, :]\n",
    "df_sample.to_csv(\"data/df_sample.csv\")"
   ]
  }
 ],
 "metadata": {
  "kernelspec": {
   "display_name": "Python 3",
   "language": "python",
   "name": "python3"
  },
  "language_info": {
   "codemirror_mode": {
    "name": "ipython",
    "version": 3
   },
   "file_extension": ".py",
   "mimetype": "text/x-python",
   "name": "python",
   "nbconvert_exporter": "python",
   "pygments_lexer": "ipython3",
   "version": "3.6.0"
  }
 },
 "nbformat": 4,
 "nbformat_minor": 2
}
